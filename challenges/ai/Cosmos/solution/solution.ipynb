{
 "cells": [
  {
   "cell_type": "code",
   "execution_count": null,
   "id": "2a27c892",
   "metadata": {
    "vscode": {
     "languageId": "plaintext"
    }
   },
   "outputs": [],
   "source": [
    "import numpy as np\n",
    "import pandas as pd\n",
    "from sklearn.preprocessing import StandardScaler\n",
    "from sklearn.cluster import KMeans\n",
    "import matplotlib.pyplot as plt"
   ]
  },
  {
   "cell_type": "code",
   "execution_count": null,
   "id": "c1fcc76f",
   "metadata": {
    "vscode": {
     "languageId": "plaintext"
    }
   },
   "outputs": [],
   "source": [
    "df = pd.read_csv('cosmos.csv')\n",
    "df"
   ]
  },
  {
   "cell_type": "code",
   "execution_count": null,
   "id": "b2f38d35",
   "metadata": {
    "vscode": {
     "languageId": "plaintext"
    }
   },
   "outputs": [],
   "source": [
    "inertias = []\n",
    "ks = range(1, 11)\n",
    "for k in ks:\n",
    "    km = KMeans(n_clusters=k, random_state=0).fit(Xs)\n",
    "    inertias.append(km.inertia_)\n",
    "\n",
    "plt.plot(ks, inertias, marker='o')\n",
    "plt.xlabel('k (number of clusters)')\n",
    "plt.ylabel('Inertia')\n",
    "plt.title('Elbow Method for Optimal k')\n",
    "plt.show()"
   ]
  },
  {
   "cell_type": "code",
   "execution_count": null,
   "id": "c8ad9dd5",
   "metadata": {
    "vscode": {
     "languageId": "plaintext"
    }
   },
   "outputs": [],
   "source": [
    "## From visualization, the number of clusters is 6\n",
    "\n",
    "X = df.values  # (600,14)\n",
    "\n",
    "# 2. (Optional but recommended) standardize so dims are comparable\n",
    "scaler = StandardScaler()\n",
    "Xs = scaler.fit_transform(X)\n",
    "\n",
    "# 3. Fit K-means with k=6\n",
    "kmeans = KMeans(n_clusters=6, random_state=0).fit(Xs)\n",
    "centroids = kmeans.cluster_centers_     # shape (6,14) in scaled space\n",
    "\n",
    "# 4. Decode each centroid into a 14-char flag\n",
    "flags = []\n",
    "for idx, c_scaled in enumerate(centroids):\n",
    "    # reverse the scaling to get back to original-space coords\n",
    "    c_orig = c_scaled * scaler.scale_ + scaler.mean_\n",
    "    # round each coordinate to nearest int\n",
    "    codes = np.rint(c_orig).astype(int)\n",
    "    # map to characters (you may need to ensure these ints are valid ASCII 32–126)\n",
    "    chars = [chr(code) for code in codes]\n",
    "    flag = ''.join(chars)\n",
    "    flags.append(flag)\n",
    "    print(f\"Cluster {idx+1} flag: {flag}\")\n",
    "\n",
    "# Now `flags` is a list of 6 separate 14-character strings."
   ]
  }
 ],
 "metadata": {
  "language_info": {
   "name": "python"
  }
 },
 "nbformat": 4,
 "nbformat_minor": 5
}
